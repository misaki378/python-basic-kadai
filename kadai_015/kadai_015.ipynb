{
  "nbformat": 4,
  "nbformat_minor": 0,
  "metadata": {
    "colab": {
      "provenance": []
    },
    "kernelspec": {
      "name": "python3",
      "display_name": "Python 3"
    },
    "language_info": {
      "name": "python"
    }
  },
  "cells": [
    {
      "cell_type": "code",
      "execution_count": 3,
      "metadata": {
        "colab": {
          "base_uri": "https://localhost:8080/"
        },
        "id": "jPC1c0-xvhuY",
        "outputId": "40bd98f9-25f5-4afd-bd11-abf9ec7fd4cd"
      },
      "outputs": [
        {
          "output_type": "stream",
          "name": "stdout",
          "text": [
            "名前: 太郎, 年齢: 25歳\n"
          ]
        }
      ],
      "source": [
        "class Human:\n",
        "    def __init__(self, name, age):\n",
        "        # 名前の属性\n",
        "        self.name = name\n",
        "        # 年齢の属性\n",
        "        self.age = age\n",
        "\n",
        "    def printinfo(self):\n",
        "        print(f\"名前: {self.name}, 年齢: {self.age}歳\")\n",
        "\n",
        "# Humanクラスのインスタンスを作成\n",
        "person = Human(\"太郎\", 25)\n",
        "\n",
        "# メソッドを使って情報を表示\n",
        "person.printinfo()\n"
      ]
    }
  ]
}