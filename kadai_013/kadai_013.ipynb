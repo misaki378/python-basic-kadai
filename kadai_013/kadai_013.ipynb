{
  "nbformat": 4,
  "nbformat_minor": 0,
  "metadata": {
    "colab": {
      "provenance": []
    },
    "kernelspec": {
      "name": "python3",
      "display_name": "Python 3"
    },
    "language_info": {
      "name": "python"
    }
  },
  "cells": [
    {
      "cell_type": "code",
      "source": [
        "# 消費税を加えた合計金額を返す関数\n",
        "def calculate_total(price, tax):\n",
        "    total = price + tax\n",
        "    # 戻り値で結果を返す\n",
        "    return total\n",
        "\n",
        "# 関数の呼び出し\n",
        "price = 110\n",
        "tax = 10\n",
        "total_amount = calculate_total(price, tax)\n",
        "\n",
        "# 結果の表示\n",
        "print(total_amount)\n"
      ],
      "metadata": {
        "colab": {
          "base_uri": "https://localhost:8080/"
        },
        "id": "jWdD2LSE2bxe",
        "outputId": "6399bdbc-de4c-4e57-c405-7ec03072ec6d"
      },
      "execution_count": 1,
      "outputs": [
        {
          "output_type": "stream",
          "name": "stdout",
          "text": [
            "120\n"
          ]
        }
      ]
    },
    {
      "cell_type": "code",
      "source": [],
      "metadata": {
        "id": "_U8DWUQqsk6e"
      },
      "execution_count": null,
      "outputs": []
    }
  ]
}