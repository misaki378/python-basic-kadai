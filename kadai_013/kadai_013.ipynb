{
  "nbformat": 4,
  "nbformat_minor": 0,
  "metadata": {
    "colab": {
      "provenance": []
    },
    "kernelspec": {
      "name": "python3",
      "display_name": "Python 3"
    },
    "language_info": {
      "name": "python"
    }
  },
  "cells": [
    {
      "cell_type": "code",
      "source": [
        "# 合計金額を計算する関数（価格と税率を引数として受け取る）\n",
        "def calculate_total(price, tax_rate):\n",
        "    tax = price * tax_rate\n",
        "    total = price + tax\n",
        "    # 計算結果を戻り値として返す\n",
        "    return total\n",
        "\n",
        "# 関数の呼び出しと使用\n",
        "price = 110\n",
        "tax_rate = 0.1\n",
        "total_amount = calculate_total(price, tax_rate)\n",
        "\n",
        "# 結果の表示（関数外で行う）\n",
        "print(total_amount)\n"
      ],
      "metadata": {
        "colab": {
          "base_uri": "https://localhost:8080/"
        },
        "id": "kHdcpmdBsEAL",
        "outputId": "a1c36cd5-b787-4e61-fc06-a83c9ad56df6"
      },
      "execution_count": 4,
      "outputs": [
        {
          "output_type": "stream",
          "name": "stdout",
          "text": [
            "121.0\n"
          ]
        }
      ]
    },
    {
      "cell_type": "code",
      "source": [],
      "metadata": {
        "id": "_U8DWUQqsk6e"
      },
      "execution_count": null,
      "outputs": []
    }
  ]
}