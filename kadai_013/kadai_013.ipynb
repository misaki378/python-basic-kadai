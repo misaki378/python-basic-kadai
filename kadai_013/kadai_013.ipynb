{
  "nbformat": 4,
  "nbformat_minor": 0,
  "metadata": {
    "colab": {
      "provenance": []
    },
    "kernelspec": {
      "name": "python3",
      "display_name": "Python 3"
    },
    "language_info": {
      "name": "python"
    }
  },
  "cells": [
    {
      "cell_type": "code",
      "execution_count": null,
      "metadata": {
        "colab": {
          "base_uri": "https://localhost:8080/"
        },
        "id": "Rb_HTzb7fo3A",
        "outputId": "a2a6d2dc-3f0f-4440-996a-9b87a673297e"
      },
      "outputs": [
        {
          "output_type": "stream",
          "name": "stdout",
          "text": [
            "121.0\n"
          ]
        }
      ],
      "source": [
        "def calculate_total(price,tax):\n",
        "    tax = price * 0.1\n",
        "    total = price + tax\n",
        "    print(total)\n",
        "\n",
        "tax = 110 * 0.1\n",
        "calculate_total(110,tax)"
      ]
    }
  ]
}